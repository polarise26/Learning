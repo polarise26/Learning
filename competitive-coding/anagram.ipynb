{
 "cells": [
  {
   "cell_type": "markdown",
   "metadata": {},
   "source": [
    "# Code to check whether two strings are anagrams!"
   ]
  },
  {
   "cell_type": "markdown",
   "metadata": {},
   "source": [
    "###### In Python"
   ]
  },
  {
   "cell_type": "code",
   "execution_count": 1,
   "metadata": {},
   "outputs": [
    {
     "name": "stdout",
     "output_type": "stream",
     "text": [
      "race and care ARE anagrams!\n"
     ]
    }
   ],
   "source": [
    "from typing import Counter\n",
    "\n",
    "def anagram(s1, s2):\n",
    "    if len(s1) != len(s2):\n",
    "        print(\"{} and {} are NOT anagrams!\".format(s1,s2))\n",
    "    if(Counter(s1) == Counter(s2)):\n",
    "        print(\"{} and {} ARE anagrams!\".format(s1,s2))\n",
    "    else:\n",
    "        print(\"{} and {} are NOT anagrams!\".format(s1, s2))\n",
    "\n",
    "if __name__ == \"__main__\":\n",
    "    anagram(input(\"Enter the first word!\"), input(\"Enter the second word!\"))"
   ]
  },
  {
   "cell_type": "markdown",
   "metadata": {},
   "source": [
    "Without Counter():"
   ]
  },
  {
   "cell_type": "code",
   "execution_count": 12,
   "metadata": {},
   "outputs": [
    {
     "name": "stdout",
     "output_type": "stream",
     "text": [
      "p[oltw and poltw[ ARE anagrams!\n"
     ]
    }
   ],
   "source": [
    "def anagram(s1 : str, s2 : str):\n",
    "    # If the two strings aren't of the same lengths, they DEFINITELY aren't anagrams\n",
    "    if len(s1) != len(s2):\n",
    "        return(\"{} and {} are NOT anagrams!\".format(s1, s2))\n",
    "    # Only using a single dictionary:\n",
    "    counts = {}\n",
    "    for c1, c2 in zip(s1, s2):\n",
    "        # If a character occurs in the first string, add 1 to the character's frequency value\n",
    "        if c1 in counts.keys():\n",
    "            counts[c1] += 1\n",
    "        else:\n",
    "            counts[c1] = 1\n",
    "        # If a character occurs in the second string, subtract 1 from the character's frequency value\n",
    "        if c2 in counts.keys():\n",
    "            counts[c2] -= 1\n",
    "        else:\n",
    "            counts[c2] = -1\n",
    "    \n",
    "    # Iterating through each character's frequency value, and if it isn't zero, then they aren't anagrams.\n",
    "    for freq in counts.values():\n",
    "        if freq != 0:\n",
    "            return(\"{} and {} are NOT anagrams!\".format(s1, s2))\n",
    "    return(\"{} and {} ARE anagrams!\".format(s1,s2))\n",
    "\n",
    "if __name__ == \"__main__\":\n",
    "    print(anagram(str(input(\"Enter the first word!\")), str(input(\"Enter the second word!\"))))\n"
   ]
  }
 ],
 "metadata": {
  "kernelspec": {
   "display_name": "Python 3.9.7 ('base')",
   "language": "python",
   "name": "python3"
  },
  "language_info": {
   "codemirror_mode": {
    "name": "ipython",
    "version": 3
   },
   "file_extension": ".py",
   "mimetype": "text/x-python",
   "name": "python",
   "nbconvert_exporter": "python",
   "pygments_lexer": "ipython3",
   "version": "3.9.7"
  },
  "orig_nbformat": 4,
  "vscode": {
   "interpreter": {
    "hash": "07679939c1e9e0123cdb7f1e3e47ca7bd0ebf7d11a568c172f75cf735eef26da"
   }
  }
 },
 "nbformat": 4,
 "nbformat_minor": 2
}
